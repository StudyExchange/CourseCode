{
 "cells": [
  {
   "cell_type": "markdown",
   "metadata": {},
   "source": [
    "# 算法 3.2（构造平衡kd树）\n",
    "- 测试数据：例3.2\n",
    "- 参考：https://en.wikipedia.org/wiki/K-d_tree\n",
    "- 实现的核心是：1）使用中间点代替分割平面，2）构造二叉树\n",
    "- 打印的结果，与【p43，图3.4 kd树示例】的结果一致\n",
    "- 实现的很粗糙，有待进一步优化"
   ]
  },
  {
   "cell_type": "code",
   "execution_count": 1,
   "metadata": {},
   "outputs": [
    {
     "name": "stdout",
     "output_type": "stream",
     "text": [
      "(7, 2) 0\n",
      "(5, 4) 1\n",
      "(2, 3) 2\n",
      "(4, 7) 2\n",
      "(9, 6) 1\n",
      "(8, 1) 2\n"
     ]
    }
   ],
   "source": [
    "from operator import itemgetter\n",
    "\n",
    "class Node(object):\n",
    "    def __init__(self, data, floor):\n",
    "        self._data = data\n",
    "        self._floor = floor\n",
    "        self._lchild = None\n",
    "        self._rchild = None\n",
    "    # 属性\n",
    "    @property\n",
    "    def data(self):\n",
    "        return self._data\n",
    "    @property\n",
    "    def floor(self):\n",
    "        return self._floor\n",
    "    @property\n",
    "    def lchild(self):\n",
    "        return self._lchild\n",
    "    @lchild.setter\n",
    "    def lchild(self, value):\n",
    "        self._lchild = value\n",
    "    @property\n",
    "    def rchild(self):\n",
    "        return self._rchild\n",
    "    @rchild.setter\n",
    "    def rchild(self, value):\n",
    "        self._rchild = value\n",
    "    \n",
    "    # 方法\n",
    "    def is_leaf(self):\n",
    "        return self.lchild is None and self.rchild is None\n",
    "    def print(self):\n",
    "        print(self.data)\n",
    "\n",
    "\n",
    "# 默认单个样本的值是一个tuple或者数组，可以是多维的，如(2, 3)。而不是向量transpose((2, 3))。\n",
    "# 则，输入样本则是一个矩阵（二维）\n",
    "def kdtree(points, depth=0):\n",
    "    # 构建kd树\n",
    "    if len(points) <= 0:\n",
    "        return None\n",
    "    dim = len(points[0])\n",
    "    axis = depth % dim\n",
    "    points.sort(key=itemgetter(axis))\n",
    "    median = len(points) // 2\n",
    "    node = Node(points[median], depth)\n",
    "    node.lchild = kdtree(points[:median], depth + 1)\n",
    "    node.rchild = kdtree(points[median + 1:], depth + 1)\n",
    "    return node\n",
    "\n",
    "def pprint(node):\n",
    "    # 打印，前序遍历\n",
    "    print(node.data, node.floor)\n",
    "    if node.lchild is not None:\n",
    "        pprint(node.lchild)\n",
    "    if node.rchild is not None:\n",
    "        pprint(node.rchild)\n",
    "\n",
    "x = [(2, 3), (5, 4), (9, 6), (4, 7), (8, 1), (7, 2)]\n",
    "tree = kdtree(x)\n",
    "pprint(tree)"
   ]
  },
  {
   "cell_type": "code",
   "execution_count": null,
   "metadata": {},
   "outputs": [],
   "source": []
  }
 ],
 "metadata": {
  "kernelspec": {
   "display_name": "Python 3",
   "language": "python",
   "name": "python3"
  },
  "language_info": {
   "codemirror_mode": {
    "name": "ipython",
    "version": 3
   },
   "file_extension": ".py",
   "mimetype": "text/x-python",
   "name": "python",
   "nbconvert_exporter": "python",
   "pygments_lexer": "ipython3",
   "version": "3.6.3"
  }
 },
 "nbformat": 4,
 "nbformat_minor": 2
}
