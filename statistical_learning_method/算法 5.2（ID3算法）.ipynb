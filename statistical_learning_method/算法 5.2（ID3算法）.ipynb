{
 "cells": [
  {
   "cell_type": "markdown",
   "metadata": {},
   "source": [
    "# 算法 5.2（ID3算法）\n",
    "- 测试数据：例5.3，表5.1\n",
    "- 表5.1 贷款申请样本数据表、（1）经验熵H(D)、（2）条件经验熵H(D|A)、（3）信息增益g(D,A)和计算各个特征的信息增益，代码直接从算法 5.1（信息增益的算法）复制过来\n",
    "- 生成的树的结构与例5.3，图5.5 决策树的生成基本一致"
   ]
  },
  {
   "cell_type": "code",
   "execution_count": 1,
   "metadata": {},
   "outputs": [
    {
     "name": "stdout",
     "output_type": "stream",
     "text": [
      "[[10 20 30 40]\n",
      " [10 20 30 41]\n",
      " [10 21 30 41]\n",
      " [10 21 31 40]\n",
      " [10 20 30 40]\n",
      " [11 20 30 40]\n",
      " [11 20 30 41]\n",
      " [11 21 31 41]\n",
      " [11 20 31 42]\n",
      " [11 20 31 42]\n",
      " [12 20 31 42]\n",
      " [12 20 31 41]\n",
      " [12 21 30 41]\n",
      " [12 21 30 42]\n",
      " [12 20 30 40]]\n",
      "[100 100 101 101 100 100 100 101 101 101 101 101 101 101 100]\n",
      "(15, 4)\n",
      "(15,)\n"
     ]
    }
   ],
   "source": [
    "import pdb\n",
    "\n",
    "import numpy as np\n",
    "import pandas as pd\n",
    "from IPython.display import display\n",
    "\n",
    "# 表5.1 贷款申请样本数据表\n",
    "loan_application = [\n",
    "    (1, '青年', '否', '否', '一般', '否'),\n",
    "    (2, '青年', '否', '否', '好', '否'),\n",
    "    (3, '青年', '是', '否', '好', '是'),\n",
    "    (4, '青年', '是', '是', '一般', '是'),\n",
    "    (5, '青年', '否', '否', '一般', '否'),\n",
    "    (6, '中年', '否', '否', '一般', '否'),\n",
    "    (7, '中年', '否', '否', '好', '否'),\n",
    "    (8, '中年', '是', '是', '好', '是'),\n",
    "    (9, '中年', '否', '是', '非常好', '是'),\n",
    "    (10, '中年', '否', '是', '非常好', '是'),\n",
    "    (11, '老年', '否', '是', '非常好', '是'),\n",
    "    (12, '老年', '否', '是', '好', '是'),\n",
    "    (13, '老年', '是', '否', '好', '是'),\n",
    "    (14, '老年', '是', '否', '非常好', '是'),\n",
    "    (15, '老年', '否', '否', '一般', '否')\n",
    "]\n",
    "\n",
    "df = pd.DataFrame(loan_application, columns=['ID', '年龄', '有工作', '有自己的房子', '借贷情况', '类别'])\n",
    "# display(df)\n",
    "\n",
    "# 将类型转换为int类型\n",
    "df['类别'] = df['类别'].map({'否': 100, '是': 101}).astype(int)\n",
    "df['年龄'] = df['年龄'].map({'青年': 10, '中年': 11, '老年': 12}).astype(int)\n",
    "df['有工作'] = df['有工作'].map({'否': 20, '是': 21}).astype(int)\n",
    "df['有自己的房子'] = df['有自己的房子'].map({'否': 30, '是': 31}).astype(int)\n",
    "df['借贷情况'] = df['借贷情况'].map({'一般': 40, '好': 41, '非常好': 42})\n",
    "# display(df)\n",
    "\n",
    "x_data = df[['年龄', '有工作', '有自己的房子', '借贷情况']].as_matrix()\n",
    "y_data = df['类别'].as_matrix()\n",
    "\n",
    "print(x_data)\n",
    "print(y_data)\n",
    "print(x_data.shape)\n",
    "print(y_data.shape)"
   ]
  },
  {
   "cell_type": "code",
   "execution_count": 2,
   "metadata": {},
   "outputs": [
    {
     "name": "stdout",
     "output_type": "stream",
     "text": [
      "（1）经验熵H(D) = 0.971\n"
     ]
    }
   ],
   "source": [
    "# （1）经验熵H(D)\n",
    "import math\n",
    "\n",
    "def empirical_entropy(labels):\n",
    "    # labels：int类型的list\n",
    "    lenght = len(labels)\n",
    "    class_names = set(labels)\n",
    "    # 用字典来统计各个值出现的次数\n",
    "    class_group = {}\n",
    "    # 初始化字典，存储各个类别的数量都为0\n",
    "    for c in class_names:\n",
    "        class_group[c] = list(labels).count(c)\n",
    "    # 汇总各个类别，【p62，公式5.7】\n",
    "#     entropies = []\n",
    "#     for g in class_group.values():\n",
    "#         entropies.append(- g / lenght * math.log2(g / lenght))\n",
    "#     entropy = sum(entropies)\n",
    "    entropy = sum([- g / lenght * math.log2(g / lenght) for g in class_group.values()]) #这一行代码等同于前面4行\n",
    "    return entropy\n",
    "\n",
    "entropy = empirical_entropy(y_data)\n",
    "print('（1）经验熵H(D) = %.3f' % entropy)"
   ]
  },
  {
   "cell_type": "code",
   "execution_count": 3,
   "metadata": {},
   "outputs": [
    {
     "name": "stdout",
     "output_type": "stream",
     "text": [
      "（2）条件经验熵H(D|A) = 0.888\n"
     ]
    }
   ],
   "source": [
    "# （2）条件经验熵H(D|A)\n",
    "\n",
    "def conditional_empirical_entropy(feature, labels):\n",
    "    # feature：单个特征的int类型的list，int是map之后的类别，支持多个特征取条件经验熵\n",
    "    # labels：int类型的list，int是map之后的类别\n",
    "    lenght = len(labels)\n",
    "    classes = set(feature)\n",
    "    # 按feature对数据进行分组\n",
    "    feature_group = {}\n",
    "    for c in classes:\n",
    "        indexes = [i for i in range(len(feature)) if feature[i] == c]\n",
    "        feature_group[c] = indexes\n",
    "#     print(feature_group)\n",
    "    entropies = []\n",
    "    # 【p62，公式5.8】\n",
    "    for indexes in feature_group.values():\n",
    "        di_d = len(indexes) / lenght\n",
    "        entropies.append(di_d*empirical_entropy(labels[indexes]))\n",
    "    entropy = sum(entropies)\n",
    "    return entropy\n",
    "\n",
    "entropy = conditional_empirical_entropy(x_data[:, 0], y_data)\n",
    "print('（2）条件经验熵H(D|A) = %.3f' % entropy)"
   ]
  },
  {
   "cell_type": "code",
   "execution_count": 4,
   "metadata": {},
   "outputs": [
    {
     "name": "stdout",
     "output_type": "stream",
     "text": [
      "（3）信息增益g(D,A) = 0.083\n"
     ]
    }
   ],
   "source": [
    "# （3）信息增益g(D,A)\n",
    "def information_gain(feature, labels):\n",
    "    # 【p62，公式5.9】\n",
    "    return empirical_entropy(labels) - conditional_empirical_entropy(feature, labels)\n",
    "\n",
    "gain = information_gain(x_data[:, 0], y_data)\n",
    "print('（3）信息增益g(D,A) = %.3f' % gain)"
   ]
  },
  {
   "cell_type": "code",
   "execution_count": 5,
   "metadata": {},
   "outputs": [
    {
     "name": "stdout",
     "output_type": "stream",
     "text": [
      "0.08300749985576883\n",
      "0.32365019815155627\n",
      "0.4199730940219749\n",
      "0.36298956253708536\n",
      "信息增益最大的index是：2，对应特征是：A(3)，信息增益是：0.420\n"
     ]
    }
   ],
   "source": [
    "# 计算各个特征的信息增益\n",
    "for i in range(x_data.shape[1]):\n",
    "    print(information_gain(x_data[:, i], y_data))\n",
    "\n",
    "def get_max_information_gain(features, labels):\n",
    "    gains = [information_gain(features[:, i], labels) for i in range(features.shape[1])]\n",
    "    sorted_indexes = np.argsort(gains)\n",
    "#     print(sorted_indexes)\n",
    "    return sorted_indexes[-1], gains[sorted_indexes[-1]]\n",
    "\n",
    "max_feature_index, max_feature_gain = get_max_information_gain(x_data, y_data)\n",
    "print('信息增益最大的index是：%s，对应特征是：A(%s)，信息增益是：%.3f' % (max_feature_index, max_feature_index + 1, max_feature_gain))"
   ]
  },
  {
   "cell_type": "code",
   "execution_count": 6,
   "metadata": {},
   "outputs": [],
   "source": [
    "class Node(object):\n",
    "    def __init__(self, feature_index, label=None):\n",
    "        self._feature_index = feature_index\n",
    "#         self._sub_space = sub_space\n",
    "        self._label = label\n",
    "        self._children = {}\n",
    "    # 属性\n",
    "    @property\n",
    "    def feature_index(self):\n",
    "        return self._feature_index\n",
    "    @property\n",
    "    def sub_spaces(self):\n",
    "        return self._sub_spaces\n",
    "    @property\n",
    "    def label(self):\n",
    "        return self._label\n",
    "\n",
    "    @property\n",
    "    def children(self):\n",
    "        return self._children\n",
    "    @children.setter\n",
    "    def children(self, value):\n",
    "        self._children = value\n",
    "    \n",
    "    # 方法\n",
    "    def is_leaf(self):\n",
    "        return self.label is not None"
   ]
  },
  {
   "cell_type": "code",
   "execution_count": 7,
   "metadata": {},
   "outputs": [],
   "source": [
    "def get_max_class(labels):\n",
    "    classes = set(labels)\n",
    "    class_group = []\n",
    "    for c in classes:\n",
    "        class_group.append(list(labels).count(c))\n",
    "    max_feature_index = np.argsort(class_group)[-1]\n",
    "    return list(classes)[max_feature_index]\n",
    "\n",
    "test_labels = [2, 3, 3, 2, 1, 1, 1, 1]\n",
    "class_name = get_max_class(test_labels)\n",
    "assert 1 == class_name"
   ]
  },
  {
   "cell_type": "code",
   "execution_count": 8,
   "metadata": {},
   "outputs": [],
   "source": [
    "def id3(features, labels, epsilon=0.1):\n",
    "    assert len(features) > 0\n",
    "    assert len(features) == len(labels)\n",
    "    length = len(labels)\n",
    "    classes = set(labels)\n",
    "    # 【p63，算法5.2第（1）步】\n",
    "    if len(classes) == 1:\n",
    "        return Node(None, list(classes)[0])\n",
    "    # 【p63，算法5.2第（2）步】获取实例数最大的类\n",
    "    if len(features[0]) == 0:\n",
    "        max_class = get_max_class(labels)\n",
    "        return Node(None, max_class)\n",
    "    # 【p64，算法5.2第（3）步】选择信息增益最大的特征\n",
    "    max_feature_index, max_feature_gain = get_max_information_gain(features, labels)\n",
    "    # 【p64，算法5.2第（4）步】信息增益小于阈值\n",
    "    if max_feature_gain < epsilon:\n",
    "        max_class = get_max_class(labels)\n",
    "        return Node(None, max_class)\n",
    "    # 【p64，算法5.2第（5）（6）步】构建多叉树的节点\n",
    "    feature_indexes = list(range(features.shape[1]))\n",
    "    feature_indexes.remove(max_feature_index) # 第（6）步，从数据集中剔除当前特征\n",
    "    minus_features = features[:,feature_indexes]\n",
    "    max_feature = features[:, max_feature_index] # 按增益最大的特征分割数据集\n",
    "    max_classes = set(max_feature)\n",
    "    # 按类型对数据集进行分割\n",
    "    node = Node(max_feature_index)\n",
    "    for c in max_classes:\n",
    "        indexes = [i for i in range(len(max_feature)) if max_feature[i] == c]\n",
    "        print('feature:%s' % c)\n",
    "        print(minus_features[indexes])\n",
    "        print(labels[indexes])\n",
    "        child_node = id3(minus_features[indexes], labels[indexes])\n",
    "        # pdb.set_trace()\n",
    "        node.children[c] = child_node\n",
    "    return node\n"
   ]
  },
  {
   "cell_type": "code",
   "execution_count": 9,
   "metadata": {},
   "outputs": [
    {
     "name": "stdout",
     "output_type": "stream",
     "text": [
      "feature:30\n",
      "[[10 20 40]\n",
      " [10 20 41]\n",
      " [10 21 41]\n",
      " [10 20 40]\n",
      " [11 20 40]\n",
      " [11 20 41]\n",
      " [12 21 41]\n",
      " [12 21 42]\n",
      " [12 20 40]]\n",
      "[100 100 101 100 100 100 101 101 100]\n",
      "feature:20\n",
      "[[10 40]\n",
      " [10 41]\n",
      " [10 40]\n",
      " [11 40]\n",
      " [11 41]\n",
      " [12 40]]\n",
      "[100 100 100 100 100 100]\n",
      "feature:21\n",
      "[[10 41]\n",
      " [12 41]\n",
      " [12 42]]\n",
      "[101 101 101]\n",
      "feature:31\n",
      "[[10 21 40]\n",
      " [11 21 41]\n",
      " [11 20 42]\n",
      " [11 20 42]\n",
      " [12 20 42]\n",
      " [12 20 41]]\n",
      "[101 101 101 101 101 101]\n"
     ]
    }
   ],
   "source": [
    "# 测试函数id3，第1个if分支\n",
    "test_features = np.array([[], [], []])\n",
    "test_labels = np.array([0, 0, 0])\n",
    "test_tree = id3(test_features, test_labels)\n",
    "assert isinstance(test_tree, Node)\n",
    "assert test_tree.is_leaf()\n",
    "\n",
    "# 测试函数id3，第2个if分支\n",
    "test_features = np.array([[], [], []])\n",
    "test_labels = np.array([0, 1, 1])\n",
    "test_tree = id3(test_features, test_labels)\n",
    "assert isinstance(test_tree, Node)\n",
    "assert test_tree.is_leaf()\n",
    "assert 101, test_tree.label\n",
    "\n",
    "# 测试函数id3，第3个if分支，使用前面整理好的数据：x_data和y_data\n",
    "test_tree = id3(x_data, y_data, 0.45) # epsilon取0.45，让特征A(3)的增益0.42小于这个阈值\n",
    "assert isinstance(test_tree, Node)\n",
    "assert test_tree.is_leaf()\n",
    "assert 101 == test_tree.label\n",
    "\n",
    "# 测试函数id3，剩余分支，使用前面整理好的数据：x_data和y_data\n",
    "test_tree = id3(x_data, y_data, epsilon=0.1) # epsilon取默认值0.1\n",
    "assert isinstance(test_tree, Node)\n",
    "assert False == test_tree.is_leaf()"
   ]
  },
  {
   "cell_type": "code",
   "execution_count": null,
   "metadata": {},
   "outputs": [],
   "source": []
  }
 ],
 "metadata": {
  "kernelspec": {
   "display_name": "Python 3",
   "language": "python",
   "name": "python3"
  },
  "language_info": {
   "codemirror_mode": {
    "name": "ipython",
    "version": 3
   },
   "file_extension": ".py",
   "mimetype": "text/x-python",
   "name": "python",
   "nbconvert_exporter": "python",
   "pygments_lexer": "ipython3",
   "version": "3.6.3"
  }
 },
 "nbformat": 4,
 "nbformat_minor": 2
}
