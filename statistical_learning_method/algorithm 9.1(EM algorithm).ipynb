{
 "cells": [
  {
   "cell_type": "markdown",
   "metadata": {},
   "source": [
    "# 算法 9.1（EM算法）\n",
    "- 测试数据：p155，例9.1\n"
   ]
  },
  {
   "cell_type": "code",
   "execution_count": 1,
   "metadata": {},
   "outputs": [
    {
     "name": "stdout",
     "output_type": "stream",
     "text": [
      "设置初值：pi=0.50，p=0.50，q=0.50\n",
      "(0.5, 0.6, 0.6)\n",
      "(0.5, 0.6, 0.6)\n",
      "满足停机条件，终止循环。1 of 3\n",
      "设置初值：pi=0.40，p=0.60，q=0.70\n",
      "(0.4064171122994653, 0.5368421052631579, 0.6432432432432431)\n",
      "(0.40641711229946537, 0.536842105263158, 0.6432432432432431)\n",
      "满足停机条件，终止循环。1 of 3\n"
     ]
    }
   ],
   "source": [
    "import math\n",
    "\n",
    "class Em(object):\n",
    "    def __init__(self, epsilon0=0.001, epsilon1=0.001):\n",
    "        self._epsilon0 = epsilon0\n",
    "        self._epsilon1 = epsilon1\n",
    "        self._max_iteration = 3\n",
    "        self._nu = None\n",
    "        self._pi = 0\n",
    "        self._p = 0\n",
    "        self._q = 0\n",
    "\n",
    "        self._nus = []\n",
    "        self._thetas = []\n",
    "    @property\n",
    "    def theta(self):\n",
    "        return self._pi, self._p, self._q\n",
    "    def train(self, y_train, pi, p, q):\n",
    "        length = len(y_train)\n",
    "        self._pi = pi\n",
    "        self._p = p\n",
    "        self._q = q\n",
    "        self._thetas.append((pi, p, q))\n",
    "        self._nu = [0]*length\n",
    "        for i in range(self._max_iteration):\n",
    "            # 【p156，公式9.5】\n",
    "            for j in range(length):\n",
    "                b = self._pi * math.pow(self._p, y_train[j]) * math.pow(1 - self._p, 1 - y_train[j])\n",
    "                c = (1 - self._pi) * math.pow(self._q, y_train[j]) * math.pow(1 - self._q, 1 - y_train[j])\n",
    "                self._nu[j] = b / (b + c)\n",
    "            # 【p156，公式9.6】\n",
    "            self._pi = 1. / length * sum(self._nu)\n",
    "            # 【p156，公式9.7】\n",
    "            self._p = sum([self._nu[k] * y_train[k] for k in range(length)]) / sum(self._nu)\n",
    "            # 【p156，公式9.8】\n",
    "            self._q = sum([(1 - self._nu[k]) * y_train[k] for k in range(length)]) \\\n",
    "                        / sum([(1 - self._nu[k]) for k in range(length)])\n",
    "            self._thetas.append((self._pi, self._p, self._q))\n",
    "            print((self._pi, self._p, self._q))\n",
    "            if self.is_stop():\n",
    "                print('满足停机条件，终止循环。%s of %s' % (i, self._max_iteration))\n",
    "                break\n",
    "\n",
    "    def is_stop(self):\n",
    "        # 【p158，中部步骤（4）】停止条件，Q函数还没懂要怎么实现\n",
    "        pi0, p0, q0 = self._thetas[-2]\n",
    "        pi1, p1, q1 = self._thetas[-1]\n",
    "        if all([pi1- pi0 < self._epsilon0, p1 - p0 < self._epsilon0, q1 - q0 < self._epsilon0]):\n",
    "            return True\n",
    "        return False\n",
    "    def q_fun(self):\n",
    "        # Q函数还没懂要怎么实现\n",
    "        pass\n",
    "\n",
    "x_train = [1, 1, 0, 1, 0, 0, 1, 0, 1, 1]\n",
    "em = Em()\n",
    "pi, p, q = (0.5, 0.5, 0.5)\n",
    "print('设置初值：pi=%.2f，p=%.2f，q=%.2f' % (pi, p, q))\n",
    "em.train(x_train, pi, p, q)\n",
    "pi, p, q = (0.4, 0.6, 0.7)\n",
    "print('设置初值：pi=%.2f，p=%.2f，q=%.2f' % (pi, p, q))\n",
    "em.train(x_train, pi, p, q)\n"
   ]
  },
  {
   "cell_type": "code",
   "execution_count": null,
   "metadata": {},
   "outputs": [],
   "source": []
  }
 ],
 "metadata": {
  "kernelspec": {
   "display_name": "Python 3",
   "language": "python",
   "name": "python3"
  },
  "language_info": {
   "codemirror_mode": {
    "name": "ipython",
    "version": 3
   },
   "file_extension": ".py",
   "mimetype": "text/x-python",
   "name": "python",
   "nbconvert_exporter": "python",
   "pygments_lexer": "ipython3",
   "version": "3.6.3"
  }
 },
 "nbformat": 4,
 "nbformat_minor": 2
}
