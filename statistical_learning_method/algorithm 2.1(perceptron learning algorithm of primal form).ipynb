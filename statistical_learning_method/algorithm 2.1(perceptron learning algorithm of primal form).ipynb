{
 "cells": [
  {
   "cell_type": "markdown",
   "metadata": {},
   "source": [
    "# 算法 2.1（感知机学习算法的原始形式）\n",
    "- 测试数据：例2.1\n",
    "- w和b的计算过程值与书中一致\n",
    "- loss的值书中未给出，这里仅供参考"
   ]
  },
  {
   "cell_type": "code",
   "execution_count": 1,
   "metadata": {},
   "outputs": [
    {
     "name": "stdout",
     "output_type": "stream",
     "text": [
      "[[ 3.]\n",
      " [ 3.]] 1\n",
      "[[ 2.]\n",
      " [ 2.]] 0\n",
      "[[ 1.]\n",
      " [ 1.]] -1\n",
      "[[ 0.]\n",
      " [ 0.]] -2\n",
      "[[ 3.]\n",
      " [ 3.]] -1\n",
      "[[ 2.]\n",
      " [ 2.]] -2\n",
      "[[ 1.]\n",
      " [ 1.]] -3\n",
      "最后结果：\n",
      "w： [[ 1.]\n",
      " [ 1.]]\n",
      "b： -3\n",
      "loss： [7.0, 4.0, 1.0, 4.0, 5.0, 2.0, 0]\n"
     ]
    }
   ],
   "source": [
    "import numpy as np\n",
    "\n",
    "def classify(xi, yi, w, b):\n",
    "    # 【p29，算法2.1第（3）】分类函数\n",
    "    result = yi*(np.squeeze(np.dot(np.transpose(w), xi)) + b)\n",
    "    return result\n",
    "\n",
    "def loss(x, y, w, b):\n",
    "    # 【p27，公式2.4】损失函数L(w, b)\n",
    "    distances = np.squeeze(np.dot(np.transpose(w), x) + b) # 为了省事儿，这里用了向量相乘的形式\n",
    "    distances_y = np.transpose(y)*distances\n",
    "    losses = 0\n",
    "    for d in distances_y:\n",
    "        if d < 0: # 损失函数是所有误分类样本的损失的总和\n",
    "            losses += d\n",
    "    result = - losses\n",
    "    return result\n",
    "\n",
    "def data_generator(x, y):\n",
    "    # 用于持续生成数据\n",
    "    index = 0\n",
    "    while True:\n",
    "        # x[:, index]切片的结果是一个行向量，需要reshape成列向量\n",
    "        xi = x[:, index].reshape(x.shape[0], 1)\n",
    "        yield xi, y[index]\n",
    "        index = index + 1\n",
    "        index = index % len(y)\n",
    "\n",
    "# 初始化\n",
    "x = np.array([[3, 4, 1],\n",
    "              [3, 3, 1]])\n",
    "y = np.array([1, 1, -1])\n",
    "\n",
    "w = np.zeros((2, 1))\n",
    "b = 0\n",
    "eta = 1\n",
    "\n",
    "# 保存每个迭代损失函数的损失\n",
    "losses = []\n",
    "# 数据生成器\n",
    "gen = data_generator(x, y)\n",
    "\n",
    "\n",
    "count = 0 # 累计连续正确分类样本的次数\n",
    "while True:\n",
    "    xi, yi = next(gen)\n",
    "    # 【p29，算法2.1第（3）步】分类\n",
    "    result = classify(xi, yi, w, b)\n",
    "    if result <= 0:\n",
    "        # 【p29，算法2.1第（3）步】更新w，b\n",
    "        w = w + eta*yi*xi\n",
    "        b = b + eta*yi\n",
    "        print(w, b)\n",
    "        # 额外计算一下损失函数\n",
    "        losses.append(loss(x, y, w, b))\n",
    "        count = 0 # 如果有无分类的样本，计数清零\n",
    "    else:\n",
    "        count += 1\n",
    "    if count == len(y): # 算法第4步，当这个累计次数等于样本总数时，说明全部的样本点都被正确分类了\n",
    "        break\n",
    "\n",
    "print('最后结果：')\n",
    "print('w：', w)\n",
    "print('b：', b)\n",
    "print('loss：', losses)"
   ]
  },
  {
   "cell_type": "code",
   "execution_count": null,
   "metadata": {},
   "outputs": [],
   "source": []
  }
 ],
 "metadata": {
  "kernelspec": {
   "display_name": "Python 3",
   "language": "python",
   "name": "python3"
  },
  "language_info": {
   "codemirror_mode": {
    "name": "ipython",
    "version": 3
   },
   "file_extension": ".py",
   "mimetype": "text/x-python",
   "name": "python",
   "nbconvert_exporter": "python",
   "pygments_lexer": "ipython3",
   "version": "3.6.3"
  }
 },
 "nbformat": 4,
 "nbformat_minor": 2
}
