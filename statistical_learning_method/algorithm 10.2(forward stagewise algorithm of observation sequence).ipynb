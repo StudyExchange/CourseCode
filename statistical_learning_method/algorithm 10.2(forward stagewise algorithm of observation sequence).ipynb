{
 "cells": [
  {
   "cell_type": "markdown",
   "metadata": {},
   "source": [
    "# 算法 10.2（观测序列概率的前向算法）\n",
    "- 使用p175，10.2.1 直接计算法\n",
    "- 测试数据1：测试数据：p177，例10.2（主要的测试数据）\n",
    "- 测试数据2：测试数据：p173，例10.1（盒子和球模型）（用来与直接和后向算法做对照可以相互印证，结果是否正确。另外，由于p177，例10.2中，a的状态的数量、b的状态的数量和观测序列的长度是对齐的，都是3，难以辨别对应的参数是否用对了，所以p173，例10.1没有对齐的数据可以用来检验一下。）\n",
    "- 测试结果1：与书中结果一致：0.13018四舍五入为0.13022\n",
    "- 测试结果2：与直接计算的结果一致\n",
    "- 从测试结果看，与直接计算法相比，前向算法的计算量要小很多"
   ]
  },
  {
   "cell_type": "code",
   "execution_count": 1,
   "metadata": {},
   "outputs": [],
   "source": [
    "import math\n",
    "\n",
    "class MarkovForward(object):\n",
    "    def probability(self, a, b, pi, output):\n",
    "        an = len(a[0]) # a的状态的数量 = len(pi)\n",
    "        bn = len(b[0]) # b的状态的数量\n",
    "        m = len(output) # 观测序列的长度\n",
    "        \n",
    "        alphas = []\n",
    "        alpha1 = [0] * an\n",
    "        # 【p176，算法10.2，第（1）步，公式10.15】alpha1\n",
    "        for i in range(an):\n",
    "            alpha1[i] = pi[i] * b[i][output[0]]\n",
    "        print(alpha1)\n",
    "        alphas.append(alpha1)\n",
    "        # 【p176，算法10.2，第（2）步，公式10.16】alpha2到alpha_T\n",
    "        for i in range(1, m):\n",
    "            alpha = [0] * an\n",
    "            for j in range(an):\n",
    "                alpha[j] = 0\n",
    "                for k in range(an):\n",
    "                    alpha[j] += alphas[-1][k] * a[k][j]\n",
    "                print('%.3f * %.3f' % (alpha[j], b[j][output[i]]), end=' = ')\n",
    "                alpha[j] *= b[j][output[i]]\n",
    "                print('%.4f' % alpha[j])\n",
    "            alphas.append(alpha)\n",
    "        # 【p176，算法10.2，第（3）步，公式10.17】P(O|lambda)\n",
    "        result = sum(alphas[-1])\n",
    "        return result\n",
    "\n"
   ]
  },
  {
   "cell_type": "code",
   "execution_count": 2,
   "metadata": {},
   "outputs": [
    {
     "name": "stdout",
     "output_type": "stream",
     "text": [
      "[0.1, 0.16000000000000003, 0.27999999999999997]\n",
      "0.154 * 0.500 = 0.0770\n",
      "0.184 * 0.600 = 0.1104\n",
      "0.202 * 0.300 = 0.0606\n",
      "0.084 * 0.500 = 0.0419\n",
      "0.089 * 0.400 = 0.0355\n",
      "0.075 * 0.700 = 0.0528\n",
      "0.130218\n"
     ]
    }
   ],
   "source": [
    "# 测试数据1：测试数据：p177，例10.2（主要的测试数据）\n",
    "a = [\n",
    "    [0.5, 0.2, 0.3],\n",
    "    [0.3, 0.5, 0.2],\n",
    "    [0.2, 0.3, 0.5]\n",
    "]\n",
    "b = [\n",
    "    [0.5, 0.5],\n",
    "    [0.4, 0.6],\n",
    "    [0.7, 0.3]\n",
    "]\n",
    "pi = [0.2, 0.4, 0.4]\n",
    "output = [0, 1, 0]\n",
    "\n",
    "mf = MarkovForward()\n",
    "print(mf.probability(a, b, pi, output))\n"
   ]
  },
  {
   "cell_type": "code",
   "execution_count": 3,
   "metadata": {},
   "outputs": [
    {
     "name": "stdout",
     "output_type": "stream",
     "text": [
      "[0.125, 0.075, 0.15, 0.2]\n",
      "0.030 * 0.500 = 0.0150\n",
      "0.185 * 0.300 = 0.0555\n",
      "0.145 * 0.600 = 0.0870\n",
      "0.190 * 0.800 = 0.1520\n",
      "0.022 * 0.500 = 0.0111\n",
      "0.050 * 0.700 = 0.0349\n",
      "0.109 * 0.400 = 0.0437\n",
      "0.128 * 0.200 = 0.0256\n",
      "0.014 * 0.500 = 0.0070\n",
      "0.029 * 0.700 = 0.0200\n",
      "0.034 * 0.400 = 0.0135\n",
      "0.039 * 0.200 = 0.0078\n",
      "0.008 * 0.500 = 0.0040\n",
      "0.012 * 0.300 = 0.0037\n",
      "0.016 * 0.600 = 0.0095\n",
      "0.012 * 0.800 = 0.0096\n",
      "0.026862016000000002\n"
     ]
    }
   ],
   "source": [
    "# 测试数据2：测试数据：p173，例10.1（盒子和球模型）\n",
    "a = [\n",
    "    [0, 1, 0, 0],\n",
    "    [0.4, 0, 0.6, 0],\n",
    "    [0, 0.4, 0, 0.6],\n",
    "    [0, 0, 0.5, 0.5]\n",
    "]\n",
    "b = [\n",
    "    [0.5, 0.5],\n",
    "    [0.3, 0.7],\n",
    "    [0.6, 0.4],\n",
    "    [0.8, 0.2]\n",
    "]\n",
    "pi = (0.25, 0.25, 0.25, 0.25)\n",
    "output = [0, 0, 1, 1, 0]\n",
    "\n",
    "mf = MarkovForward()\n",
    "print(mf.probability(a, b, pi, output))\n"
   ]
  },
  {
   "cell_type": "code",
   "execution_count": null,
   "metadata": {},
   "outputs": [],
   "source": []
  }
 ],
 "metadata": {
  "kernelspec": {
   "display_name": "Python 3",
   "language": "python",
   "name": "python3"
  },
  "language_info": {
   "codemirror_mode": {
    "name": "ipython",
    "version": 3
   },
   "file_extension": ".py",
   "mimetype": "text/x-python",
   "name": "python",
   "nbconvert_exporter": "python",
   "pygments_lexer": "ipython3",
   "version": "3.6.3"
  }
 },
 "nbformat": 4,
 "nbformat_minor": 2
}
