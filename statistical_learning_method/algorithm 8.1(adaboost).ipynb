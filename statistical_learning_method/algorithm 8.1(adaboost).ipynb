{
 "cells": [
  {
   "cell_type": "markdown",
   "metadata": {},
   "source": [
    "# 算法 8.1（AdaBoost）\n",
    "- 测试数据：例8.1，表8.1训练数据表"
   ]
  },
  {
   "cell_type": "code",
   "execution_count": null,
   "metadata": {},
   "outputs": [],
   "source": [
    "import numpy as np\n",
    "import math\n",
    "\n",
    "class BaseClassifier(object):\n",
    "    def __init__(self):\n",
    "        self._error = None\n",
    "\n",
    "    def fit(self, x_data, y_data):\n",
    "        pass\n",
    "    def predict(self, x_test):\n",
    "        pass\n",
    "    @property\n",
    "    def error(self):\n",
    "        return self._error\n",
    "\n",
    "class Adaboost(object):\n",
    "    def __init__(self, classifier = None, classifier_count = 10):\n",
    "        if classifier is None:\n",
    "            self._classifier = BaseClassifier()\n",
    "        self._x_train = None\n",
    "        self._y_train = None\n",
    "        self._weight = None\n",
    "        self._error = None\n",
    "        self._alpha = None\n",
    "\n",
    "        self._classifier_count = classifier_count\n",
    "        self._weights = []\n",
    "        self._errors = []\n",
    "        self._alphas = []\n",
    "        self._funcs = []\n",
    "\n",
    "    def fit(self, x_train, y_train):\n",
    "        self._x_train = x_train\n",
    "        self._y_train = y_train\n",
    "        self._m = len(self._x_train)\n",
    "        self._n = len(self._x_train[0])\n",
    "        # 初始化权值\n",
    "        self._weight = [1. / self._m]*self._m\n",
    "        self._weights.append(self._weight)\n",
    "        x = self._weight * self._x_train\n",
    "        for i in range(self._classifier_count):\n",
    "            self._classifier.fit(x, self._y_train)\n",
    "            alpha = 1. / 2 * math.log((1 - self._classifier.error) / self._classifier.error)\n",
    "            self._weight = self._get_weight()\n",
    "            self._alphas.append(alpha)\n",
    "\n",
    "\n",
    "    def predict(self, x_test):\n",
    "        pass\n",
    "\n",
    "    @property\n",
    "    def x_train(self):\n",
    "        return self._x_train\n",
    "    @property\n",
    "    def y_train(self):\n",
    "        return self._y_train\n",
    "    \n",
    "    def _get_weight(self):\n",
    "        pass\n",
    "\n",
    "x_train = np.array([0, 1, 2, 3, 4, 5, 6, 7, 8, 9]).reshape(-1, 1)\n",
    "y_train = np.array([1, 1, 1,-1,-1,-1, 1, 1, 1,-1]).reshape(-1, 1)\n",
    "\n",
    "ada = Adaboost()\n",
    "ada.fit(x_train, y_train)\n"
   ]
  }
 ],
 "metadata": {
  "kernelspec": {
   "display_name": "Python 3",
   "language": "python",
   "name": "python3"
  },
  "language_info": {
   "codemirror_mode": {
    "name": "ipython",
    "version": 3
   },
   "file_extension": ".py",
   "mimetype": "text/x-python",
   "name": "python",
   "nbconvert_exporter": "python",
   "pygments_lexer": "ipython3",
   "version": "3.6.3"
  }
 },
 "nbformat": 4,
 "nbformat_minor": 2
}
