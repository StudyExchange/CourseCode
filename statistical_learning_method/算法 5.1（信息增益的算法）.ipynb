{
 "cells": [
  {
   "cell_type": "markdown",
   "metadata": {},
   "source": [
    "# 算法 5.1（信息增益的算法）\n",
    "- 测试数据：例5.2，表5.1\n",
    "- 结果与书中结果基本一致"
   ]
  },
  {
   "cell_type": "code",
   "execution_count": 1,
   "metadata": {},
   "outputs": [
    {
     "name": "stdout",
     "output_type": "stream",
     "text": [
      "[[10 20 30 40]\n",
      " [10 20 30 41]\n",
      " [10 21 30 41]\n",
      " [10 21 31 40]\n",
      " [10 20 30 40]\n",
      " [11 20 30 40]\n",
      " [11 20 30 41]\n",
      " [11 21 31 41]\n",
      " [11 20 31 42]\n",
      " [11 20 31 42]\n",
      " [12 20 31 42]\n",
      " [12 20 31 41]\n",
      " [12 21 30 41]\n",
      " [12 21 30 42]\n",
      " [12 20 30 40]]\n",
      "[100 100 101 101 100 100 100 101 101 101 101 101 101 101 100]\n",
      "(15, 4)\n",
      "(15,)\n"
     ]
    }
   ],
   "source": [
    "import pdb\n",
    "\n",
    "import numpy as np\n",
    "import pandas as pd\n",
    "from IPython.display import display\n",
    "\n",
    "# 表5.1 贷款申请样本数据表\n",
    "loan_application = [\n",
    "    (1, '青年', '否', '否', '一般', '否'),\n",
    "    (2, '青年', '否', '否', '好', '否'),\n",
    "    (3, '青年', '是', '否', '好', '是'),\n",
    "    (4, '青年', '是', '是', '一般', '是'),\n",
    "    (5, '青年', '否', '否', '一般', '否'),\n",
    "    (6, '中年', '否', '否', '一般', '否'),\n",
    "    (7, '中年', '否', '否', '好', '否'),\n",
    "    (8, '中年', '是', '是', '好', '是'),\n",
    "    (9, '中年', '否', '是', '非常好', '是'),\n",
    "    (10, '中年', '否', '是', '非常好', '是'),\n",
    "    (11, '老年', '否', '是', '非常好', '是'),\n",
    "    (12, '老年', '否', '是', '好', '是'),\n",
    "    (13, '老年', '是', '否', '好', '是'),\n",
    "    (14, '老年', '是', '否', '非常好', '是'),\n",
    "    (15, '老年', '否', '否', '一般', '否')\n",
    "]\n",
    "\n",
    "df = pd.DataFrame(loan_application, columns=['ID', '年龄', '有工作', '有自己的房子', '借贷情况', '类别'])\n",
    "# display(df)\n",
    "\n",
    "# 将类型转换为int类型，使用100、101、10、11、12等数字，而不是0、1、2等是为了便于在计算过程中区分各个类别\n",
    "df['类别'] = df['类别'].map({'否': 100, '是': 101}).astype(int)\n",
    "df['年龄'] = df['年龄'].map({'青年': 10, '中年': 11, '老年': 12}).astype(int)\n",
    "df['有工作'] = df['有工作'].map({'否': 20, '是': 21}).astype(int)\n",
    "df['有自己的房子'] = df['有自己的房子'].map({'否': 30, '是': 31}).astype(int)\n",
    "df['借贷情况'] = df['借贷情况'].map({'一般': 40, '好': 41, '非常好': 42})\n",
    "# display(df)\n",
    "\n",
    "x_data = df[['年龄', '有工作', '有自己的房子', '借贷情况']].as_matrix()\n",
    "y_data = df['类别'].as_matrix()\n",
    "\n",
    "print(x_data)\n",
    "print(y_data)\n",
    "print(x_data.shape)\n",
    "print(y_data.shape)"
   ]
  },
  {
   "cell_type": "code",
   "execution_count": 2,
   "metadata": {},
   "outputs": [
    {
     "name": "stdout",
     "output_type": "stream",
     "text": [
      "（1）经验熵H(D) = 0.971\n"
     ]
    }
   ],
   "source": [
    "# （1）经验熵H(D)\n",
    "import math\n",
    "\n",
    "def empirical_entropy(labels):\n",
    "    # labels：int类型的list\n",
    "    lenght = len(labels)\n",
    "    class_names = set(labels)\n",
    "    # 用字典来统计各个值出现的次数\n",
    "    class_group = {}\n",
    "    # 初始化字典，存储各个类别的数量都为0\n",
    "    for c in class_names:\n",
    "        class_group[c] = list(labels).count(c)\n",
    "    # 汇总各个类别，【p62，公式5.7】\n",
    "#     entropies = []\n",
    "#     for g in class_group.values():\n",
    "#         entropies.append(- g / lenght * math.log2(g / lenght))\n",
    "#     entropy = sum(entropies)\n",
    "    entropy = sum([- g / lenght * math.log2(g / lenght) for g in class_group.values()]) #这一行代码等同于前面4行\n",
    "    return entropy\n",
    "\n",
    "entropy = empirical_entropy(y_data)\n",
    "print('（1）经验熵H(D) = %.3f' % entropy)"
   ]
  },
  {
   "cell_type": "code",
   "execution_count": 3,
   "metadata": {},
   "outputs": [
    {
     "name": "stdout",
     "output_type": "stream",
     "text": [
      "（2）条件经验熵H(D|A) = 0.888\n"
     ]
    }
   ],
   "source": [
    "# （2）条件经验熵H(D|A)\n",
    "\n",
    "def conditional_empirical_entropy(feature, labels):\n",
    "    # feature：单个特征的int类型的list，int是map之后的类别，支持多个特征取条件经验熵\n",
    "    # labels：int类型的list，int是map之后的类别\n",
    "    lenght = len(labels)\n",
    "    classes = set(feature)\n",
    "    # 按feature对数据进行分组\n",
    "    feature_group = {}\n",
    "    for c in classes:\n",
    "        indexes = [i for i in range(len(feature)) if feature[i] == c]\n",
    "        feature_group[c] = indexes\n",
    "#     print(feature_group)\n",
    "    entropies = []\n",
    "    # 【p62，公式5.8】\n",
    "    for indexes in feature_group.values():\n",
    "        di_d = len(indexes) / lenght\n",
    "        entropies.append(di_d*empirical_entropy(labels[indexes]))\n",
    "    entropy = sum(entropies)\n",
    "    return entropy\n",
    "\n",
    "entropy = conditional_empirical_entropy(x_data[:, 0], y_data)\n",
    "print('（2）条件经验熵H(D|A) = %.3f' % entropy)"
   ]
  },
  {
   "cell_type": "code",
   "execution_count": 4,
   "metadata": {},
   "outputs": [
    {
     "name": "stdout",
     "output_type": "stream",
     "text": [
      "（3）信息增益g(D,A) = 0.083\n"
     ]
    }
   ],
   "source": [
    "# （3）信息增益g(D,A)\n",
    "def information_gain(feature, labels):\n",
    "    # 【p62，公式5.9】\n",
    "    return empirical_entropy(labels) - conditional_empirical_entropy(feature, labels)\n",
    "\n",
    "gain = information_gain(x_data[:, 0], y_data)\n",
    "print('（3）信息增益g(D,A) = %.3f' % gain)"
   ]
  },
  {
   "cell_type": "code",
   "execution_count": 5,
   "metadata": {},
   "outputs": [
    {
     "name": "stdout",
     "output_type": "stream",
     "text": [
      "0.08300749985576883\n",
      "0.32365019815155627\n",
      "0.4199730940219749\n",
      "0.36298956253708536\n",
      "信息增益最大的index是：2，对应特征是：A(3)，信息增益是：0.420\n"
     ]
    }
   ],
   "source": [
    "# 计算各个特征的信息增益\n",
    "for i in range(x_data.shape[1]):\n",
    "    print(information_gain(x_data[:, i], y_data))\n",
    "\n",
    "def get_max_information_gain(features, labels):\n",
    "    gains = [information_gain(features[:, i], y_data) for i in range(features.shape[1])]\n",
    "    sorted_indexes = np.argsort(gains)\n",
    "#     print(sorted_indexes)\n",
    "    return sorted_indexes[-1], gains[sorted_indexes[-1]]\n",
    "\n",
    "max_feature_index, max_feature_gain = get_max_information_gain(x_data, y_data)\n",
    "print('信息增益最大的index是：%s，对应特征是：A(%s)，信息增益是：%.3f' % (max_feature_index, max_feature_index + 1, max_feature_gain))"
   ]
  },
  {
   "cell_type": "code",
   "execution_count": null,
   "metadata": {},
   "outputs": [],
   "source": []
  }
 ],
 "metadata": {
  "kernelspec": {
   "display_name": "Python 3",
   "language": "python",
   "name": "python3"
  },
  "language_info": {
   "codemirror_mode": {
    "name": "ipython",
    "version": 3
   },
   "file_extension": ".py",
   "mimetype": "text/x-python",
   "name": "python",
   "nbconvert_exporter": "python",
   "pygments_lexer": "ipython3",
   "version": "3.6.3"
  }
 },
 "nbformat": 4,
 "nbformat_minor": 2
}
